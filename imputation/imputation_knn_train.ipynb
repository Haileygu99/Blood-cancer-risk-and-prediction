{
 "cells": [
  {
   "cell_type": "code",
   "execution_count": 1,
   "metadata": {},
   "outputs": [],
   "source": [
    "# Import necessary libraries\n",
    "import pandas as pd\n",
    "from sklearn.impute import KNNImputer\n",
    "import numpy as np"
   ]
  },
  {
   "cell_type": "code",
   "execution_count": 2,
   "metadata": {},
   "outputs": [
    {
     "name": "stdout",
     "output_type": "stream",
     "text": [
      "/rds/general/project/hda-22-23/live/TDS/Group5/Models\n"
     ]
    }
   ],
   "source": [
    "import os\n",
    "\n",
    "# change current working directory to a new directory\n",
    "os.chdir('/rds/general/project/hda-22-23/live/TDS/Group5/Models')\n",
    "\n",
    "# check if the current working directory has been changed\n",
    "print(os.getcwd())\n"
   ]
  },
  {
   "cell_type": "code",
   "execution_count": 2,
   "metadata": {},
   "outputs": [],
   "source": [
    "# Load dataset into Pandas DataFrame\n",
    "train_df = pd.read_csv('../Models/train_df.csv')"
   ]
  },
  {
   "cell_type": "code",
   "execution_count": 3,
   "metadata": {},
   "outputs": [
    {
     "name": "stdout",
     "output_type": "stream",
     "text": [
      "       Unnamed: 0      eid  Age_recr.0.0  Sex.0.0  BMI.0.0  Mood_swings.0.0  \\\n",
      "0               1  1003113          59.0        1  30.4255              0.0   \n",
      "1               2  1010279          67.0        1  23.9732              0.0   \n",
      "2               3  1028033          56.0        0  28.7553              0.0   \n",
      "3               4  1029141          67.0        0  32.1263              0.0   \n",
      "4               5  1029272          69.0        1  25.7484              0.0   \n",
      "...           ...      ...           ...      ...      ...              ...   \n",
      "49354       49355  6024484          50.0        1  27.9996              0.0   \n",
      "49355       49356  6024799          66.0        0  26.3179             -1.0   \n",
      "49356       49357  6024890          58.0        1  29.7311              1.0   \n",
      "49357       49358  6024912           NaN        0      NaN              NaN   \n",
      "49358       49359  6024923           NaN        1      NaN              0.0   \n",
      "\n",
      "       Smoking_status.0.0  Alc_drinker_status.0.0  Lymphocyte_count.0.0  \\\n",
      "0                     0.0                     2.0                  2.60   \n",
      "1                     1.0                     2.0                  7.20   \n",
      "2                     0.0                     2.0                  1.90   \n",
      "3                     1.0                     2.0                  3.60   \n",
      "4                     1.0                     2.0                  7.00   \n",
      "...                   ...                     ...                   ...   \n",
      "49354                 0.0                     2.0                  1.44   \n",
      "49355                 1.0                     2.0                  2.96   \n",
      "49356                 0.0                     2.0                  2.30   \n",
      "49357                 NaN                     NaN                   NaN   \n",
      "49358                 1.0                     2.0                   NaN   \n",
      "\n",
      "       Monocyte_count.0.0  ...  Immature_ret_fraction.0.0  \\\n",
      "0                    0.50  ...                      0.250   \n",
      "1                    0.40  ...                      0.270   \n",
      "2                    0.40  ...                      0.310   \n",
      "3                    0.60  ...                      0.330   \n",
      "4                    0.55  ...                      0.310   \n",
      "...                   ...  ...                        ...   \n",
      "49354                0.38  ...                      0.241   \n",
      "49355                0.47  ...                      0.205   \n",
      "49356                0.68  ...                      0.202   \n",
      "49357                 NaN  ...                        NaN   \n",
      "49358                 NaN  ...                        NaN   \n",
      "\n",
      "       High_light_scatter_reti_count.0.0  C_reactive_protein.0.0  \\\n",
      "0                                  0.019                     NaN   \n",
      "1                                  0.011                    0.43   \n",
      "2                                  0.021                    9.66   \n",
      "3                                  0.023                    4.01   \n",
      "4                                  0.012                    0.61   \n",
      "...                                  ...                     ...   \n",
      "49354                              0.012                    0.70   \n",
      "49355                              0.008                    2.07   \n",
      "49356                              0.016                    0.92   \n",
      "49357                                NaN                     NaN   \n",
      "49358                                NaN                     NaN   \n",
      "\n",
      "       Traff_int_major_rd.0.0  housing_score  health_score  case_leuk  \\\n",
      "0                     26926.0          22.87          0.74          1   \n",
      "1                     21189.0           4.62         -0.44          1   \n",
      "2                     99417.0          11.16          1.38          1   \n",
      "3                     13799.0          18.23          0.01          1   \n",
      "4                     17090.0          19.68         -1.46          1   \n",
      "...                       ...            ...           ...        ...   \n",
      "49354                 47585.0          31.44          1.37          0   \n",
      "49355                 28931.0          24.34         -0.58          0   \n",
      "49356                 14158.0          29.70         -0.75          0   \n",
      "49357                     NaN            NaN           NaN          0   \n",
      "49358                     NaN            NaN           NaN          0   \n",
      "\n",
      "       case_lymph  case_status    cancer  \n",
      "0               0            1  leukemia  \n",
      "1               0            1  leukemia  \n",
      "2               0            1  leukemia  \n",
      "3               0            1  leukemia  \n",
      "4               0            1  leukemia  \n",
      "...           ...          ...       ...  \n",
      "49354           0            0   healthy  \n",
      "49355           0            0   healthy  \n",
      "49356           0            0   healthy  \n",
      "49357           0            0   healthy  \n",
      "49358           0            0   healthy  \n",
      "\n",
      "[49359 rows x 29 columns]\n"
     ]
    }
   ],
   "source": [
    "print(train_df)"
   ]
  },
  {
   "cell_type": "code",
   "execution_count": 4,
   "metadata": {},
   "outputs": [
    {
     "data": {
      "text/plain": [
       "49359"
      ]
     },
     "execution_count": 4,
     "metadata": {},
     "output_type": "execute_result"
    }
   ],
   "source": [
    "# Get the number of columns in the train_df dataframe\n",
    "len(train_df.columns)\n",
    "\n",
    "# Get the length of the eid column\n",
    "len(train_df['eid'])\n",
    "\n",
    "# Get the number of unique values in the eid column\n",
    "len(train_df['eid'].unique())\n"
   ]
  },
  {
   "cell_type": "markdown",
   "metadata": {},
   "source": [
    "we want to exclude the outlier that we found.\n",
    "the person with the eid: 1473075"
   ]
  },
  {
   "cell_type": "code",
   "execution_count": 5,
   "metadata": {},
   "outputs": [],
   "source": [
    "train_df = train_df.drop(index=train_df.loc[train_df['eid'] == 1473075].index)"
   ]
  },
  {
   "cell_type": "code",
   "execution_count": 6,
   "metadata": {},
   "outputs": [
    {
     "data": {
      "text/plain": [
       "(49358, 29)"
      ]
     },
     "execution_count": 6,
     "metadata": {},
     "output_type": "execute_result"
    }
   ],
   "source": [
    "train_df.shape"
   ]
  },
  {
   "cell_type": "markdown",
   "metadata": {},
   "source": [
    "We don't want health_score because it sort of links to the other life style variables"
   ]
  },
  {
   "cell_type": "code",
   "execution_count": 7,
   "metadata": {},
   "outputs": [],
   "source": [
    "train_df = train_df.drop('health_score', axis=1)"
   ]
  },
  {
   "cell_type": "markdown",
   "metadata": {},
   "source": [
    "we are making all the values that are less than 0 to NA in mood swing, smoking and drinking "
   ]
  },
  {
   "cell_type": "code",
   "execution_count": 8,
   "metadata": {},
   "outputs": [
    {
     "name": "stderr",
     "output_type": "stream",
     "text": [
      "/var/tmp/pbs.7195089.pbs/ipykernel_138708/2635210842.py:1: SettingWithCopyWarning: \n",
      "A value is trying to be set on a copy of a slice from a DataFrame\n",
      "\n",
      "See the caveats in the documentation: https://pandas.pydata.org/pandas-docs/stable/user_guide/indexing.html#returning-a-view-versus-a-copy\n",
      "  train_df['Smoking_status.0.0'][train_df['Smoking_status.0.0'] < 0] = np.nan\n",
      "/var/tmp/pbs.7195089.pbs/ipykernel_138708/2635210842.py:2: SettingWithCopyWarning: \n",
      "A value is trying to be set on a copy of a slice from a DataFrame\n",
      "\n",
      "See the caveats in the documentation: https://pandas.pydata.org/pandas-docs/stable/user_guide/indexing.html#returning-a-view-versus-a-copy\n",
      "  train_df['Mood_swings.0.0'][train_df['Mood_swings.0.0'] < 0] = np.nan\n",
      "/var/tmp/pbs.7195089.pbs/ipykernel_138708/2635210842.py:3: SettingWithCopyWarning: \n",
      "A value is trying to be set on a copy of a slice from a DataFrame\n",
      "\n",
      "See the caveats in the documentation: https://pandas.pydata.org/pandas-docs/stable/user_guide/indexing.html#returning-a-view-versus-a-copy\n",
      "  train_df['Alc_drinker_status.0.0'][train_df['Alc_drinker_status.0.0'] < 0] = np.nan\n"
     ]
    }
   ],
   "source": [
    "train_df['Smoking_status.0.0'][train_df['Smoking_status.0.0'] < 0] = np.nan\n",
    "train_df['Mood_swings.0.0'][train_df['Mood_swings.0.0'] < 0] = np.nan\n",
    "train_df['Alc_drinker_status.0.0'][train_df['Alc_drinker_status.0.0'] < 0] = np.nan\n"
   ]
  },
  {
   "cell_type": "code",
   "execution_count": 9,
   "metadata": {},
   "outputs": [
    {
     "name": "stdout",
     "output_type": "stream",
     "text": [
      "Number of missing values in column Mood_swings.0.0: 1347\n"
     ]
    }
   ],
   "source": [
    "missing_count = train_df['Mood_swings.0.0'].isnull().sum()\n",
    "\n",
    "print(\"Number of missing values in column Mood_swings.0.0:\", missing_count)"
   ]
  },
  {
   "cell_type": "code",
   "execution_count": 10,
   "metadata": {},
   "outputs": [
    {
     "name": "stdout",
     "output_type": "stream",
     "text": [
      "Index(['Unnamed: 0', 'eid', 'Age_recr.0.0', 'Sex.0.0', 'BMI.0.0',\n",
      "       'Mood_swings.0.0', 'Smoking_status.0.0', 'Alc_drinker_status.0.0',\n",
      "       'Lymphocyte_count.0.0', 'Monocyte_count.0.0', 'Reti_count.0.0',\n",
      "       'WBC_count.0.0', 'RBC_count.0.0', 'Hgb_conc.0.0',\n",
      "       'Haematocrit_perc.0.0', 'Platelet_count.0.0', 'Basophil_count.0.0',\n",
      "       'Eosinophil_count.0.0', 'Neutrophil_count.0.0',\n",
      "       'Immature_ret_fraction.0.0', 'High_light_scatter_reti_count.0.0',\n",
      "       'C_reactive_protein.0.0', 'Traff_int_major_rd.0.0', 'housing_score',\n",
      "       'case_leuk', 'case_lymph', 'case_status', 'cancer'],\n",
      "      dtype='object')\n"
     ]
    }
   ],
   "source": [
    "# get all column names\n",
    "col_names = train_df.columns\n",
    "\n",
    "print(col_names)"
   ]
  },
  {
   "cell_type": "code",
   "execution_count": 11,
   "metadata": {},
   "outputs": [],
   "source": [
    "subset_train_df = train_df[['Age_recr.0.0', 'Sex.0.0', 'BMI.0.0', 'Mood_swings.0.0', 'Smoking_status.0.0', 'Alc_drinker_status.0.0', 'Lymphocyte_count.0.0', 'Monocyte_count.0.0', 'Reti_count.0.0', 'WBC_count.0.0', 'RBC_count.0.0', 'Hgb_conc.0.0', 'Haematocrit_perc.0.0', 'Platelet_count.0.0', 'Basophil_count.0.0', 'Eosinophil_count.0.0', 'Neutrophil_count.0.0', 'Immature_ret_fraction.0.0', 'High_light_scatter_reti_count.0.0', 'C_reactive_protein.0.0', 'Traff_int_major_rd.0.0', 'housing_score']]\n"
   ]
  },
  {
   "cell_type": "code",
   "execution_count": 12,
   "metadata": {},
   "outputs": [
    {
     "name": "stdout",
     "output_type": "stream",
     "text": [
      "       Age_recr.0.0  Sex.0.0  BMI.0.0  Mood_swings.0.0  Smoking_status.0.0  \\\n",
      "0              59.0        1  30.4255              0.0                 0.0   \n",
      "1              67.0        1  23.9732              0.0                 1.0   \n",
      "2              56.0        0  28.7553              0.0                 0.0   \n",
      "3              67.0        0  32.1263              0.0                 1.0   \n",
      "4              69.0        1  25.7484              0.0                 1.0   \n",
      "...             ...      ...      ...              ...                 ...   \n",
      "49354          50.0        1  27.9996              0.0                 0.0   \n",
      "49355          66.0        0  26.3179              NaN                 1.0   \n",
      "49356          58.0        1  29.7311              1.0                 0.0   \n",
      "49357           NaN        0      NaN              NaN                 NaN   \n",
      "49358           NaN        1      NaN              0.0                 1.0   \n",
      "\n",
      "       Alc_drinker_status.0.0  Lymphocyte_count.0.0  Monocyte_count.0.0  \\\n",
      "0                         2.0                  2.60                0.50   \n",
      "1                         2.0                  7.20                0.40   \n",
      "2                         2.0                  1.90                0.40   \n",
      "3                         2.0                  3.60                0.60   \n",
      "4                         2.0                  7.00                0.55   \n",
      "...                       ...                   ...                 ...   \n",
      "49354                     2.0                  1.44                0.38   \n",
      "49355                     2.0                  2.96                0.47   \n",
      "49356                     2.0                  2.30                0.68   \n",
      "49357                     NaN                   NaN                 NaN   \n",
      "49358                     2.0                   NaN                 NaN   \n",
      "\n",
      "       Reti_count.0.0  WBC_count.0.0  ...  Haematocrit_perc.0.0  \\\n",
      "0               0.074           8.10  ...                 41.50   \n",
      "1               0.039          14.00  ...                 40.80   \n",
      "2               0.067           5.60  ...                 38.80   \n",
      "3               0.070          12.40  ...                 36.30   \n",
      "4               0.040          12.45  ...                 41.39   \n",
      "...               ...            ...  ...                   ...   \n",
      "49354           0.051           3.86  ...                 44.02   \n",
      "49355           0.039           7.80  ...                 40.50   \n",
      "49356           0.081           6.95  ...                 41.28   \n",
      "49357             NaN            NaN  ...                   NaN   \n",
      "49358             NaN            NaN  ...                   NaN   \n",
      "\n",
      "       Platelet_count.0.0  Basophil_count.0.0  Eosinophil_count.0.0  \\\n",
      "0                   212.0                0.00                  0.30   \n",
      "1                   218.0                0.10                  0.30   \n",
      "2                   289.0                0.00                  0.10   \n",
      "3                   301.0                0.00                  0.20   \n",
      "4                   230.8                0.03                  0.27   \n",
      "...                   ...                 ...                   ...   \n",
      "49354               198.1                0.02                  0.11   \n",
      "49355               233.1                0.05                  0.12   \n",
      "49356               280.2                0.08                  0.28   \n",
      "49357                 NaN                 NaN                   NaN   \n",
      "49358                 NaN                 NaN                   NaN   \n",
      "\n",
      "       Neutrophil_count.0.0  Immature_ret_fraction.0.0  \\\n",
      "0                      4.60                      0.250   \n",
      "1                      6.00                      0.270   \n",
      "2                      3.10                      0.310   \n",
      "3                      7.80                      0.330   \n",
      "4                      4.60                      0.310   \n",
      "...                     ...                        ...   \n",
      "49354                  1.90                      0.241   \n",
      "49355                  4.20                      0.205   \n",
      "49356                  3.62                      0.202   \n",
      "49357                   NaN                        NaN   \n",
      "49358                   NaN                        NaN   \n",
      "\n",
      "       High_light_scatter_reti_count.0.0  C_reactive_protein.0.0  \\\n",
      "0                                  0.019                     NaN   \n",
      "1                                  0.011                    0.43   \n",
      "2                                  0.021                    9.66   \n",
      "3                                  0.023                    4.01   \n",
      "4                                  0.012                    0.61   \n",
      "...                                  ...                     ...   \n",
      "49354                              0.012                    0.70   \n",
      "49355                              0.008                    2.07   \n",
      "49356                              0.016                    0.92   \n",
      "49357                                NaN                     NaN   \n",
      "49358                                NaN                     NaN   \n",
      "\n",
      "       Traff_int_major_rd.0.0  housing_score  \n",
      "0                     26926.0          22.87  \n",
      "1                     21189.0           4.62  \n",
      "2                     99417.0          11.16  \n",
      "3                     13799.0          18.23  \n",
      "4                     17090.0          19.68  \n",
      "...                       ...            ...  \n",
      "49354                 47585.0          31.44  \n",
      "49355                 28931.0          24.34  \n",
      "49356                 14158.0          29.70  \n",
      "49357                     NaN            NaN  \n",
      "49358                     NaN            NaN  \n",
      "\n",
      "[49358 rows x 22 columns]\n"
     ]
    }
   ],
   "source": [
    "print(subset_train_df)"
   ]
  },
  {
   "cell_type": "markdown",
   "metadata": {},
   "source": [
    "impute the data using knn from sklearn"
   ]
  },
  {
   "cell_type": "code",
   "execution_count": 13,
   "metadata": {},
   "outputs": [],
   "source": [
    "# Initialize KNNImputer object with desired arguments\n",
    "imputer = KNNImputer(n_neighbors=5)\n",
    "\n",
    "# Impute missing values\n",
    "imputed_data = imputer.fit_transform(subset_train_df)"
   ]
  },
  {
   "cell_type": "code",
   "execution_count": 14,
   "metadata": {},
   "outputs": [],
   "source": [
    "imputed_df = pd.DataFrame(imputed_data, columns=subset_train_df.columns)"
   ]
  },
  {
   "cell_type": "code",
   "execution_count": 15,
   "metadata": {},
   "outputs": [
    {
     "name": "stdout",
     "output_type": "stream",
     "text": [
      "Age_recr.0.0                         0\n",
      "Sex.0.0                              0\n",
      "BMI.0.0                              0\n",
      "Mood_swings.0.0                      0\n",
      "Smoking_status.0.0                   0\n",
      "Alc_drinker_status.0.0               0\n",
      "Lymphocyte_count.0.0                 0\n",
      "Monocyte_count.0.0                   0\n",
      "Reti_count.0.0                       0\n",
      "WBC_count.0.0                        0\n",
      "RBC_count.0.0                        0\n",
      "Hgb_conc.0.0                         0\n",
      "Haematocrit_perc.0.0                 0\n",
      "Platelet_count.0.0                   0\n",
      "Basophil_count.0.0                   0\n",
      "Eosinophil_count.0.0                 0\n",
      "Neutrophil_count.0.0                 0\n",
      "Immature_ret_fraction.0.0            0\n",
      "High_light_scatter_reti_count.0.0    0\n",
      "C_reactive_protein.0.0               0\n",
      "Traff_int_major_rd.0.0               0\n",
      "housing_score                        0\n",
      "dtype: int64\n"
     ]
    }
   ],
   "source": [
    "# Check for missing values in imputed_df\n",
    "print(imputed_df.isna().sum())"
   ]
  },
  {
   "cell_type": "code",
   "execution_count": 16,
   "metadata": {},
   "outputs": [],
   "source": [
    "imputed_df['Mood_swings.0.0'] = imputed_df['Mood_swings.0.0'].apply(lambda x: round(x))\n",
    "imputed_df['Smoking_status.0.0'] = imputed_df['Smoking_status.0.0'].apply(lambda x: round(x))\n",
    "imputed_df['Alc_drinker_status.0.0'] = imputed_df['Alc_drinker_status.0.0'].apply(lambda x: round(x))"
   ]
  },
  {
   "cell_type": "code",
   "execution_count": 17,
   "metadata": {},
   "outputs": [],
   "source": [
    "imputed_df.to_csv('imputed_data.csv', index= True)"
   ]
  },
  {
   "cell_type": "markdown",
   "metadata": {},
   "source": [
    "This code is an example of how to use the KNNImputer class from the sklearn.impute module in Python to impute missing values in a Pandas DataFrame using the k-nearest neighbors algorithm.\n",
    "\n",
    "import pandas as pd\n",
    "from sklearn.impute import KNNImputer\n",
    "\n",
    "This imports the necessary libraries. pandas is used for working with data in DataFrame format, and KNNImputer is the class we will use to perform the imputation.\n",
    "\n",
    "\n",
    "df = pd.read_csv('your_file.csv')\n",
    "\n",
    "This loads the data from a CSV file called 'your_file.csv' into a Pandas DataFrame called df.\n",
    "\n",
    "\n",
    "imputer = KNNImputer(n_neighbors=5)\n",
    "\n",
    "This initializes a KNNImputer object with n_neighbors=5, meaning that the algorithm will look at the 5 closest neighbors to impute the missing values.\n",
    "\n",
    "imputed_data = imputer.fit_transform(df)\n",
    "\n",
    "\n",
    "This applies the imputation algorithm to the DataFrame df using the fit_transform() method of the KNNImputer object. The resulting imputed dataset is stored in the imputed_data variable.\n",
    "\n",
    "imputed_df = pd.DataFrame(imputed_data, columns=df.columns)\n",
    "\n",
    "This converts the imputed_data NumPy array back into a Pandas DataFrame called imputed_df, with the same columns as the original df. The imputed dataset is now ready to be used for further analysis or modeling.\n"
   ]
  },
  {
   "cell_type": "code",
   "execution_count": 18,
   "metadata": {},
   "outputs": [
    {
     "data": {
      "text/plain": [
       "(49358, 28)"
      ]
     },
     "execution_count": 18,
     "metadata": {},
     "output_type": "execute_result"
    }
   ],
   "source": [
    "train_df.shape"
   ]
  },
  {
   "cell_type": "code",
   "execution_count": 19,
   "metadata": {},
   "outputs": [
    {
     "data": {
      "text/plain": [
       "(49358, 22)"
      ]
     },
     "execution_count": 19,
     "metadata": {},
     "output_type": "execute_result"
    }
   ],
   "source": [
    "imputed_df.shape"
   ]
  },
  {
   "cell_type": "code",
   "execution_count": 20,
   "metadata": {},
   "outputs": [
    {
     "name": "stdout",
     "output_type": "stream",
     "text": [
      "       Unnamed: 0      eid  Age_recr.0.0  Sex.0.0  BMI.0.0  Mood_swings.0.0  \\\n",
      "0               1  1003113          59.0        1  30.4255              0.0   \n",
      "1               2  1010279          67.0        1  23.9732              0.0   \n",
      "2               3  1028033          56.0        0  28.7553              0.0   \n",
      "3               4  1029141          67.0        0  32.1263              0.0   \n",
      "4               5  1029272          69.0        1  25.7484              0.0   \n",
      "...           ...      ...           ...      ...      ...              ...   \n",
      "49354       49355  6024484          50.0        1  27.9996              0.0   \n",
      "49355       49356  6024799          66.0        0  26.3179              NaN   \n",
      "49356       49357  6024890          58.0        1  29.7311              1.0   \n",
      "49357       49358  6024912           NaN        0      NaN              NaN   \n",
      "49358       49359  6024923           NaN        1      NaN              0.0   \n",
      "\n",
      "       Smoking_status.0.0  Alc_drinker_status.0.0  Lymphocyte_count.0.0  \\\n",
      "0                     0.0                     2.0                  2.60   \n",
      "1                     1.0                     2.0                  7.20   \n",
      "2                     0.0                     2.0                  1.90   \n",
      "3                     1.0                     2.0                  3.60   \n",
      "4                     1.0                     2.0                  7.00   \n",
      "...                   ...                     ...                   ...   \n",
      "49354                 0.0                     2.0                  1.44   \n",
      "49355                 1.0                     2.0                  2.96   \n",
      "49356                 0.0                     2.0                  2.30   \n",
      "49357                 NaN                     NaN                   NaN   \n",
      "49358                 1.0                     2.0                   NaN   \n",
      "\n",
      "       Monocyte_count.0.0  ...  Neutrophil_count.0.0  \\\n",
      "0                    0.50  ...                  4.60   \n",
      "1                    0.40  ...                  6.00   \n",
      "2                    0.40  ...                  3.10   \n",
      "3                    0.60  ...                  7.80   \n",
      "4                    0.55  ...                  4.60   \n",
      "...                   ...  ...                   ...   \n",
      "49354                0.38  ...                  1.90   \n",
      "49355                0.47  ...                  4.20   \n",
      "49356                0.68  ...                  3.62   \n",
      "49357                 NaN  ...                   NaN   \n",
      "49358                 NaN  ...                   NaN   \n",
      "\n",
      "       Immature_ret_fraction.0.0  High_light_scatter_reti_count.0.0  \\\n",
      "0                          0.250                              0.019   \n",
      "1                          0.270                              0.011   \n",
      "2                          0.310                              0.021   \n",
      "3                          0.330                              0.023   \n",
      "4                          0.310                              0.012   \n",
      "...                          ...                                ...   \n",
      "49354                      0.241                              0.012   \n",
      "49355                      0.205                              0.008   \n",
      "49356                      0.202                              0.016   \n",
      "49357                        NaN                                NaN   \n",
      "49358                        NaN                                NaN   \n",
      "\n",
      "       C_reactive_protein.0.0  Traff_int_major_rd.0.0  housing_score  \\\n",
      "0                         NaN                 26926.0          22.87   \n",
      "1                        0.43                 21189.0           4.62   \n",
      "2                        9.66                 99417.0          11.16   \n",
      "3                        4.01                 13799.0          18.23   \n",
      "4                        0.61                 17090.0          19.68   \n",
      "...                       ...                     ...            ...   \n",
      "49354                    0.70                 47585.0          31.44   \n",
      "49355                    2.07                 28931.0          24.34   \n",
      "49356                    0.92                 14158.0          29.70   \n",
      "49357                     NaN                     NaN            NaN   \n",
      "49358                     NaN                     NaN            NaN   \n",
      "\n",
      "       case_leuk  case_lymph  case_status    cancer  \n",
      "0              1           0            1  leukemia  \n",
      "1              1           0            1  leukemia  \n",
      "2              1           0            1  leukemia  \n",
      "3              1           0            1  leukemia  \n",
      "4              1           0            1  leukemia  \n",
      "...          ...         ...          ...       ...  \n",
      "49354          0           0            0   healthy  \n",
      "49355          0           0            0   healthy  \n",
      "49356          0           0            0   healthy  \n",
      "49357          0           0            0   healthy  \n",
      "49358          0           0            0   healthy  \n",
      "\n",
      "[49358 rows x 28 columns]\n"
     ]
    }
   ],
   "source": [
    "print(train_df)"
   ]
  },
  {
   "cell_type": "code",
   "execution_count": 21,
   "metadata": {},
   "outputs": [
    {
     "data": {
      "text/html": [
       "<div>\n",
       "<style scoped>\n",
       "    .dataframe tbody tr th:only-of-type {\n",
       "        vertical-align: middle;\n",
       "    }\n",
       "\n",
       "    .dataframe tbody tr th {\n",
       "        vertical-align: top;\n",
       "    }\n",
       "\n",
       "    .dataframe thead th {\n",
       "        text-align: right;\n",
       "    }\n",
       "</style>\n",
       "<table border=\"1\" class=\"dataframe\">\n",
       "  <thead>\n",
       "    <tr style=\"text-align: right;\">\n",
       "      <th></th>\n",
       "      <th>Unnamed: 0</th>\n",
       "      <th>eid</th>\n",
       "      <th>Age_recr.0.0</th>\n",
       "      <th>Sex.0.0</th>\n",
       "      <th>BMI.0.0</th>\n",
       "      <th>Mood_swings.0.0</th>\n",
       "      <th>Smoking_status.0.0</th>\n",
       "      <th>Alc_drinker_status.0.0</th>\n",
       "      <th>Lymphocyte_count.0.0</th>\n",
       "      <th>Monocyte_count.0.0</th>\n",
       "      <th>...</th>\n",
       "      <th>Neutrophil_count.0.0</th>\n",
       "      <th>Immature_ret_fraction.0.0</th>\n",
       "      <th>High_light_scatter_reti_count.0.0</th>\n",
       "      <th>C_reactive_protein.0.0</th>\n",
       "      <th>Traff_int_major_rd.0.0</th>\n",
       "      <th>housing_score</th>\n",
       "      <th>case_leuk</th>\n",
       "      <th>case_lymph</th>\n",
       "      <th>case_status</th>\n",
       "      <th>cancer</th>\n",
       "    </tr>\n",
       "  </thead>\n",
       "  <tbody>\n",
       "  </tbody>\n",
       "</table>\n",
       "<p>0 rows × 28 columns</p>\n",
       "</div>"
      ],
      "text/plain": [
       "Empty DataFrame\n",
       "Columns: [Unnamed: 0, eid, Age_recr.0.0, Sex.0.0, BMI.0.0, Mood_swings.0.0, Smoking_status.0.0, Alc_drinker_status.0.0, Lymphocyte_count.0.0, Monocyte_count.0.0, Reti_count.0.0, WBC_count.0.0, RBC_count.0.0, Hgb_conc.0.0, Haematocrit_perc.0.0, Platelet_count.0.0, Basophil_count.0.0, Eosinophil_count.0.0, Neutrophil_count.0.0, Immature_ret_fraction.0.0, High_light_scatter_reti_count.0.0, C_reactive_protein.0.0, Traff_int_major_rd.0.0, housing_score, case_leuk, case_lymph, case_status, cancer]\n",
       "Index: []\n",
       "\n",
       "[0 rows x 28 columns]"
      ]
     },
     "execution_count": 21,
     "metadata": {},
     "output_type": "execute_result"
    }
   ],
   "source": [
    "train_df.loc[train_df['eid'] == 1473075]"
   ]
  },
  {
   "cell_type": "code",
   "execution_count": 22,
   "metadata": {},
   "outputs": [
    {
     "name": "stdout",
     "output_type": "stream",
     "text": [
      "       Age_recr.0.0  Sex.0.0   BMI.0.0  Mood_swings.0.0  Smoking_status.0.0  \\\n",
      "0              59.0      1.0  30.42550                0                   0   \n",
      "1              67.0      1.0  23.97320                0                   1   \n",
      "2              56.0      0.0  28.75530                0                   0   \n",
      "3              67.0      0.0  32.12630                0                   1   \n",
      "4              69.0      1.0  25.74840                0                   1   \n",
      "...             ...      ...       ...              ...                 ...   \n",
      "49353          50.0      1.0  27.99960                0                   0   \n",
      "49354          66.0      0.0  26.31790                0                   1   \n",
      "49355          58.0      1.0  29.73110                1                   0   \n",
      "49356          55.2      0.0  25.12644                0                   0   \n",
      "49357          54.6      1.0  25.47446                0                   1   \n",
      "\n",
      "       Alc_drinker_status.0.0  Lymphocyte_count.0.0  Monocyte_count.0.0  \\\n",
      "0                           2                 2.600               0.500   \n",
      "1                           2                 7.200               0.400   \n",
      "2                           2                 1.900               0.400   \n",
      "3                           2                 3.600               0.600   \n",
      "4                           2                 7.000               0.550   \n",
      "...                       ...                   ...                 ...   \n",
      "49353                       2                 1.440               0.380   \n",
      "49354                       2                 2.960               0.470   \n",
      "49355                       2                 2.300               0.680   \n",
      "49356                       2                 1.778               0.454   \n",
      "49357                       2                 2.332               0.570   \n",
      "\n",
      "       Reti_count.0.0  WBC_count.0.0  ...  Haematocrit_perc.0.0  \\\n",
      "0              0.0740          8.100  ...                41.500   \n",
      "1              0.0390         14.000  ...                40.800   \n",
      "2              0.0670          5.600  ...                38.800   \n",
      "3              0.0700         12.400  ...                36.300   \n",
      "4              0.0400         12.450  ...                41.390   \n",
      "...               ...            ...  ...                   ...   \n",
      "49353          0.0510          3.860  ...                44.020   \n",
      "49354          0.0390          7.800  ...                40.500   \n",
      "49355          0.0810          6.950  ...                41.280   \n",
      "49356          0.0372          7.144  ...                38.438   \n",
      "49357          0.0792          6.470  ...                44.752   \n",
      "\n",
      "       Platelet_count.0.0  Basophil_count.0.0  Eosinophil_count.0.0  \\\n",
      "0                  212.00               0.000                 0.300   \n",
      "1                  218.00               0.100                 0.300   \n",
      "2                  289.00               0.000                 0.100   \n",
      "3                  301.00               0.000                 0.200   \n",
      "4                  230.80               0.030                 0.270   \n",
      "...                   ...                 ...                   ...   \n",
      "49353              198.10               0.020                 0.110   \n",
      "49354              233.10               0.050                 0.120   \n",
      "49355              280.20               0.080                 0.280   \n",
      "49356              281.04               0.028                 0.226   \n",
      "49357              215.74               0.036                 0.208   \n",
      "\n",
      "       Neutrophil_count.0.0  Immature_ret_fraction.0.0  \\\n",
      "0                     4.600                     0.2500   \n",
      "1                     6.000                     0.2700   \n",
      "2                     3.100                     0.3100   \n",
      "3                     7.800                     0.3300   \n",
      "4                     4.600                     0.3100   \n",
      "...                     ...                        ...   \n",
      "49353                 1.900                     0.2410   \n",
      "49354                 4.200                     0.2050   \n",
      "49355                 3.620                     0.2020   \n",
      "49356                 5.144                     0.3094   \n",
      "49357                 4.104                     0.3486   \n",
      "\n",
      "       High_light_scatter_reti_count.0.0  C_reactive_protein.0.0  \\\n",
      "0                                 0.0190                   4.586   \n",
      "1                                 0.0110                   0.430   \n",
      "2                                 0.0210                   9.660   \n",
      "3                                 0.0230                   4.010   \n",
      "4                                 0.0120                   0.610   \n",
      "...                                  ...                     ...   \n",
      "49353                             0.0120                   0.700   \n",
      "49354                             0.0080                   2.070   \n",
      "49355                             0.0160                   0.920   \n",
      "49356                             0.0124                   0.880   \n",
      "49357                             0.0278                   1.670   \n",
      "\n",
      "       Traff_int_major_rd.0.0  housing_score  \n",
      "0                     26926.0       22.87000  \n",
      "1                     21189.0        4.62000  \n",
      "2                     99417.0       11.16000  \n",
      "3                     13799.0       18.23000  \n",
      "4                     17090.0       19.68000  \n",
      "...                       ...            ...  \n",
      "49353                 47585.0       31.44000  \n",
      "49354                 28931.0       24.34000  \n",
      "49355                 14158.0       29.70000  \n",
      "49356                 16626.8       32.43054  \n",
      "49357                 22604.2       12.22800  \n",
      "\n",
      "[49358 rows x 22 columns]\n"
     ]
    }
   ],
   "source": [
    "print(imputed_df)"
   ]
  },
  {
   "cell_type": "code",
   "execution_count": 23,
   "metadata": {},
   "outputs": [],
   "source": [
    "train_df = train_df.drop('Unnamed: 0', axis=1)"
   ]
  },
  {
   "cell_type": "code",
   "execution_count": 24,
   "metadata": {},
   "outputs": [],
   "source": [
    "# Create a new column 'Unnamed: 0' with a sequence of integers starting from 1\n",
    "train_df['Unnamed: 0'] = range(1, len(train_df) + 1)"
   ]
  },
  {
   "cell_type": "code",
   "execution_count": 25,
   "metadata": {},
   "outputs": [
    {
     "name": "stdout",
     "output_type": "stream",
     "text": [
      "           eid  Age_recr.0.0  Sex.0.0  BMI.0.0  Mood_swings.0.0  \\\n",
      "0      1003113          59.0        1  30.4255              0.0   \n",
      "1      1010279          67.0        1  23.9732              0.0   \n",
      "2      1028033          56.0        0  28.7553              0.0   \n",
      "3      1029141          67.0        0  32.1263              0.0   \n",
      "4      1029272          69.0        1  25.7484              0.0   \n",
      "...        ...           ...      ...      ...              ...   \n",
      "49354  6024484          50.0        1  27.9996              0.0   \n",
      "49355  6024799          66.0        0  26.3179              NaN   \n",
      "49356  6024890          58.0        1  29.7311              1.0   \n",
      "49357  6024912           NaN        0      NaN              NaN   \n",
      "49358  6024923           NaN        1      NaN              0.0   \n",
      "\n",
      "       Smoking_status.0.0  Alc_drinker_status.0.0  Lymphocyte_count.0.0  \\\n",
      "0                     0.0                     2.0                  2.60   \n",
      "1                     1.0                     2.0                  7.20   \n",
      "2                     0.0                     2.0                  1.90   \n",
      "3                     1.0                     2.0                  3.60   \n",
      "4                     1.0                     2.0                  7.00   \n",
      "...                   ...                     ...                   ...   \n",
      "49354                 0.0                     2.0                  1.44   \n",
      "49355                 1.0                     2.0                  2.96   \n",
      "49356                 0.0                     2.0                  2.30   \n",
      "49357                 NaN                     NaN                   NaN   \n",
      "49358                 1.0                     2.0                   NaN   \n",
      "\n",
      "       Monocyte_count.0.0  Reti_count.0.0  ...  Immature_ret_fraction.0.0  \\\n",
      "0                    0.50           0.074  ...                      0.250   \n",
      "1                    0.40           0.039  ...                      0.270   \n",
      "2                    0.40           0.067  ...                      0.310   \n",
      "3                    0.60           0.070  ...                      0.330   \n",
      "4                    0.55           0.040  ...                      0.310   \n",
      "...                   ...             ...  ...                        ...   \n",
      "49354                0.38           0.051  ...                      0.241   \n",
      "49355                0.47           0.039  ...                      0.205   \n",
      "49356                0.68           0.081  ...                      0.202   \n",
      "49357                 NaN             NaN  ...                        NaN   \n",
      "49358                 NaN             NaN  ...                        NaN   \n",
      "\n",
      "       High_light_scatter_reti_count.0.0  C_reactive_protein.0.0  \\\n",
      "0                                  0.019                     NaN   \n",
      "1                                  0.011                    0.43   \n",
      "2                                  0.021                    9.66   \n",
      "3                                  0.023                    4.01   \n",
      "4                                  0.012                    0.61   \n",
      "...                                  ...                     ...   \n",
      "49354                              0.012                    0.70   \n",
      "49355                              0.008                    2.07   \n",
      "49356                              0.016                    0.92   \n",
      "49357                                NaN                     NaN   \n",
      "49358                                NaN                     NaN   \n",
      "\n",
      "       Traff_int_major_rd.0.0  housing_score  case_leuk  case_lymph  \\\n",
      "0                     26926.0          22.87          1           0   \n",
      "1                     21189.0           4.62          1           0   \n",
      "2                     99417.0          11.16          1           0   \n",
      "3                     13799.0          18.23          1           0   \n",
      "4                     17090.0          19.68          1           0   \n",
      "...                       ...            ...        ...         ...   \n",
      "49354                 47585.0          31.44          0           0   \n",
      "49355                 28931.0          24.34          0           0   \n",
      "49356                 14158.0          29.70          0           0   \n",
      "49357                     NaN            NaN          0           0   \n",
      "49358                     NaN            NaN          0           0   \n",
      "\n",
      "       case_status    cancer  Unnamed: 0  \n",
      "0                1  leukemia           1  \n",
      "1                1  leukemia           2  \n",
      "2                1  leukemia           3  \n",
      "3                1  leukemia           4  \n",
      "4                1  leukemia           5  \n",
      "...            ...       ...         ...  \n",
      "49354            0   healthy       49354  \n",
      "49355            0   healthy       49355  \n",
      "49356            0   healthy       49356  \n",
      "49357            0   healthy       49357  \n",
      "49358            0   healthy       49358  \n",
      "\n",
      "[49358 rows x 28 columns]\n"
     ]
    }
   ],
   "source": [
    "print(train_df)"
   ]
  },
  {
   "cell_type": "code",
   "execution_count": 26,
   "metadata": {},
   "outputs": [],
   "source": [
    "for_merge_train_df = train_df[['Unnamed: 0', 'eid', 'case_leuk', 'case_lymph', 'case_status', 'cancer']]\n"
   ]
  },
  {
   "cell_type": "code",
   "execution_count": 27,
   "metadata": {},
   "outputs": [
    {
     "name": "stdout",
     "output_type": "stream",
     "text": [
      "       Unnamed: 0      eid  case_leuk  case_lymph  case_status    cancer\n",
      "0               1  1003113          1           0            1  leukemia\n",
      "1               2  1010279          1           0            1  leukemia\n",
      "2               3  1028033          1           0            1  leukemia\n",
      "3               4  1029141          1           0            1  leukemia\n",
      "4               5  1029272          1           0            1  leukemia\n",
      "...           ...      ...        ...         ...          ...       ...\n",
      "49354       49354  6024484          0           0            0   healthy\n",
      "49355       49355  6024799          0           0            0   healthy\n",
      "49356       49356  6024890          0           0            0   healthy\n",
      "49357       49357  6024912          0           0            0   healthy\n",
      "49358       49358  6024923          0           0            0   healthy\n",
      "\n",
      "[49358 rows x 6 columns]\n"
     ]
    }
   ],
   "source": [
    "print(for_merge_train_df)"
   ]
  },
  {
   "cell_type": "code",
   "execution_count": 28,
   "metadata": {},
   "outputs": [],
   "source": [
    "# Create a new column 'Unnamed: 0' with a sequence of integers starting from 1\n",
    "imputed_df['Unnamed: 0'] = range(1, len(imputed_df) + 1)"
   ]
  },
  {
   "cell_type": "code",
   "execution_count": 29,
   "metadata": {},
   "outputs": [
    {
     "name": "stdout",
     "output_type": "stream",
     "text": [
      "       Age_recr.0.0  Sex.0.0   BMI.0.0  Mood_swings.0.0  Smoking_status.0.0  \\\n",
      "0              59.0      1.0  30.42550                0                   0   \n",
      "1              67.0      1.0  23.97320                0                   1   \n",
      "2              56.0      0.0  28.75530                0                   0   \n",
      "3              67.0      0.0  32.12630                0                   1   \n",
      "4              69.0      1.0  25.74840                0                   1   \n",
      "...             ...      ...       ...              ...                 ...   \n",
      "49353          50.0      1.0  27.99960                0                   0   \n",
      "49354          66.0      0.0  26.31790                0                   1   \n",
      "49355          58.0      1.0  29.73110                1                   0   \n",
      "49356          55.2      0.0  25.12644                0                   0   \n",
      "49357          54.6      1.0  25.47446                0                   1   \n",
      "\n",
      "       Alc_drinker_status.0.0  Lymphocyte_count.0.0  Monocyte_count.0.0  \\\n",
      "0                           2                 2.600               0.500   \n",
      "1                           2                 7.200               0.400   \n",
      "2                           2                 1.900               0.400   \n",
      "3                           2                 3.600               0.600   \n",
      "4                           2                 7.000               0.550   \n",
      "...                       ...                   ...                 ...   \n",
      "49353                       2                 1.440               0.380   \n",
      "49354                       2                 2.960               0.470   \n",
      "49355                       2                 2.300               0.680   \n",
      "49356                       2                 1.778               0.454   \n",
      "49357                       2                 2.332               0.570   \n",
      "\n",
      "       Reti_count.0.0  WBC_count.0.0  ...  Platelet_count.0.0  \\\n",
      "0              0.0740          8.100  ...              212.00   \n",
      "1              0.0390         14.000  ...              218.00   \n",
      "2              0.0670          5.600  ...              289.00   \n",
      "3              0.0700         12.400  ...              301.00   \n",
      "4              0.0400         12.450  ...              230.80   \n",
      "...               ...            ...  ...                 ...   \n",
      "49353          0.0510          3.860  ...              198.10   \n",
      "49354          0.0390          7.800  ...              233.10   \n",
      "49355          0.0810          6.950  ...              280.20   \n",
      "49356          0.0372          7.144  ...              281.04   \n",
      "49357          0.0792          6.470  ...              215.74   \n",
      "\n",
      "       Basophil_count.0.0  Eosinophil_count.0.0  Neutrophil_count.0.0  \\\n",
      "0                   0.000                 0.300                 4.600   \n",
      "1                   0.100                 0.300                 6.000   \n",
      "2                   0.000                 0.100                 3.100   \n",
      "3                   0.000                 0.200                 7.800   \n",
      "4                   0.030                 0.270                 4.600   \n",
      "...                   ...                   ...                   ...   \n",
      "49353               0.020                 0.110                 1.900   \n",
      "49354               0.050                 0.120                 4.200   \n",
      "49355               0.080                 0.280                 3.620   \n",
      "49356               0.028                 0.226                 5.144   \n",
      "49357               0.036                 0.208                 4.104   \n",
      "\n",
      "       Immature_ret_fraction.0.0  High_light_scatter_reti_count.0.0  \\\n",
      "0                         0.2500                             0.0190   \n",
      "1                         0.2700                             0.0110   \n",
      "2                         0.3100                             0.0210   \n",
      "3                         0.3300                             0.0230   \n",
      "4                         0.3100                             0.0120   \n",
      "...                          ...                                ...   \n",
      "49353                     0.2410                             0.0120   \n",
      "49354                     0.2050                             0.0080   \n",
      "49355                     0.2020                             0.0160   \n",
      "49356                     0.3094                             0.0124   \n",
      "49357                     0.3486                             0.0278   \n",
      "\n",
      "       C_reactive_protein.0.0  Traff_int_major_rd.0.0  housing_score  \\\n",
      "0                       4.586                 26926.0       22.87000   \n",
      "1                       0.430                 21189.0        4.62000   \n",
      "2                       9.660                 99417.0       11.16000   \n",
      "3                       4.010                 13799.0       18.23000   \n",
      "4                       0.610                 17090.0       19.68000   \n",
      "...                       ...                     ...            ...   \n",
      "49353                   0.700                 47585.0       31.44000   \n",
      "49354                   2.070                 28931.0       24.34000   \n",
      "49355                   0.920                 14158.0       29.70000   \n",
      "49356                   0.880                 16626.8       32.43054   \n",
      "49357                   1.670                 22604.2       12.22800   \n",
      "\n",
      "       Unnamed: 0  \n",
      "0               1  \n",
      "1               2  \n",
      "2               3  \n",
      "3               4  \n",
      "4               5  \n",
      "...           ...  \n",
      "49353       49354  \n",
      "49354       49355  \n",
      "49355       49356  \n",
      "49356       49357  \n",
      "49357       49358  \n",
      "\n",
      "[49358 rows x 23 columns]\n"
     ]
    }
   ],
   "source": [
    "print(imputed_df)"
   ]
  },
  {
   "cell_type": "code",
   "execution_count": 30,
   "metadata": {},
   "outputs": [],
   "source": [
    "final_imputed_df = pd.merge(imputed_df, for_merge_train_df, on='Unnamed: 0', how='inner')\n"
   ]
  },
  {
   "cell_type": "code",
   "execution_count": 31,
   "metadata": {},
   "outputs": [
    {
     "name": "stdout",
     "output_type": "stream",
     "text": [
      "       Age_recr.0.0  Sex.0.0   BMI.0.0  Mood_swings.0.0  Smoking_status.0.0  \\\n",
      "0              59.0      1.0  30.42550                0                   0   \n",
      "1              67.0      1.0  23.97320                0                   1   \n",
      "2              56.0      0.0  28.75530                0                   0   \n",
      "3              67.0      0.0  32.12630                0                   1   \n",
      "4              69.0      1.0  25.74840                0                   1   \n",
      "...             ...      ...       ...              ...                 ...   \n",
      "49353          50.0      1.0  27.99960                0                   0   \n",
      "49354          66.0      0.0  26.31790                0                   1   \n",
      "49355          58.0      1.0  29.73110                1                   0   \n",
      "49356          55.2      0.0  25.12644                0                   0   \n",
      "49357          54.6      1.0  25.47446                0                   1   \n",
      "\n",
      "       Alc_drinker_status.0.0  Lymphocyte_count.0.0  Monocyte_count.0.0  \\\n",
      "0                           2                 2.600               0.500   \n",
      "1                           2                 7.200               0.400   \n",
      "2                           2                 1.900               0.400   \n",
      "3                           2                 3.600               0.600   \n",
      "4                           2                 7.000               0.550   \n",
      "...                       ...                   ...                 ...   \n",
      "49353                       2                 1.440               0.380   \n",
      "49354                       2                 2.960               0.470   \n",
      "49355                       2                 2.300               0.680   \n",
      "49356                       2                 1.778               0.454   \n",
      "49357                       2                 2.332               0.570   \n",
      "\n",
      "       Reti_count.0.0  WBC_count.0.0  ...  High_light_scatter_reti_count.0.0  \\\n",
      "0              0.0740          8.100  ...                             0.0190   \n",
      "1              0.0390         14.000  ...                             0.0110   \n",
      "2              0.0670          5.600  ...                             0.0210   \n",
      "3              0.0700         12.400  ...                             0.0230   \n",
      "4              0.0400         12.450  ...                             0.0120   \n",
      "...               ...            ...  ...                                ...   \n",
      "49353          0.0510          3.860  ...                             0.0120   \n",
      "49354          0.0390          7.800  ...                             0.0080   \n",
      "49355          0.0810          6.950  ...                             0.0160   \n",
      "49356          0.0372          7.144  ...                             0.0124   \n",
      "49357          0.0792          6.470  ...                             0.0278   \n",
      "\n",
      "       C_reactive_protein.0.0  Traff_int_major_rd.0.0  housing_score  \\\n",
      "0                       4.586                 26926.0       22.87000   \n",
      "1                       0.430                 21189.0        4.62000   \n",
      "2                       9.660                 99417.0       11.16000   \n",
      "3                       4.010                 13799.0       18.23000   \n",
      "4                       0.610                 17090.0       19.68000   \n",
      "...                       ...                     ...            ...   \n",
      "49353                   0.700                 47585.0       31.44000   \n",
      "49354                   2.070                 28931.0       24.34000   \n",
      "49355                   0.920                 14158.0       29.70000   \n",
      "49356                   0.880                 16626.8       32.43054   \n",
      "49357                   1.670                 22604.2       12.22800   \n",
      "\n",
      "       Unnamed: 0      eid  case_leuk  case_lymph  case_status    cancer  \n",
      "0               1  1003113          1           0            1  leukemia  \n",
      "1               2  1010279          1           0            1  leukemia  \n",
      "2               3  1028033          1           0            1  leukemia  \n",
      "3               4  1029141          1           0            1  leukemia  \n",
      "4               5  1029272          1           0            1  leukemia  \n",
      "...           ...      ...        ...         ...          ...       ...  \n",
      "49353       49354  6024484          0           0            0   healthy  \n",
      "49354       49355  6024799          0           0            0   healthy  \n",
      "49355       49356  6024890          0           0            0   healthy  \n",
      "49356       49357  6024912          0           0            0   healthy  \n",
      "49357       49358  6024923          0           0            0   healthy  \n",
      "\n",
      "[49358 rows x 28 columns]\n"
     ]
    }
   ],
   "source": [
    "print(final_imputed_df)"
   ]
  },
  {
   "cell_type": "code",
   "execution_count": 32,
   "metadata": {},
   "outputs": [],
   "source": [
    "final_imputed_df = final_imputed_df.drop('Unnamed: 0', axis=1)"
   ]
  },
  {
   "cell_type": "code",
   "execution_count": 33,
   "metadata": {},
   "outputs": [
    {
     "name": "stdout",
     "output_type": "stream",
     "text": [
      "       Age_recr.0.0  Sex.0.0   BMI.0.0  Mood_swings.0.0  Smoking_status.0.0  \\\n",
      "0              59.0      1.0  30.42550                0                   0   \n",
      "1              67.0      1.0  23.97320                0                   1   \n",
      "2              56.0      0.0  28.75530                0                   0   \n",
      "3              67.0      0.0  32.12630                0                   1   \n",
      "4              69.0      1.0  25.74840                0                   1   \n",
      "...             ...      ...       ...              ...                 ...   \n",
      "49353          50.0      1.0  27.99960                0                   0   \n",
      "49354          66.0      0.0  26.31790                0                   1   \n",
      "49355          58.0      1.0  29.73110                1                   0   \n",
      "49356          55.2      0.0  25.12644                0                   0   \n",
      "49357          54.6      1.0  25.47446                0                   1   \n",
      "\n",
      "       Alc_drinker_status.0.0  Lymphocyte_count.0.0  Monocyte_count.0.0  \\\n",
      "0                           2                 2.600               0.500   \n",
      "1                           2                 7.200               0.400   \n",
      "2                           2                 1.900               0.400   \n",
      "3                           2                 3.600               0.600   \n",
      "4                           2                 7.000               0.550   \n",
      "...                       ...                   ...                 ...   \n",
      "49353                       2                 1.440               0.380   \n",
      "49354                       2                 2.960               0.470   \n",
      "49355                       2                 2.300               0.680   \n",
      "49356                       2                 1.778               0.454   \n",
      "49357                       2                 2.332               0.570   \n",
      "\n",
      "       Reti_count.0.0  WBC_count.0.0  ...  Immature_ret_fraction.0.0  \\\n",
      "0              0.0740          8.100  ...                     0.2500   \n",
      "1              0.0390         14.000  ...                     0.2700   \n",
      "2              0.0670          5.600  ...                     0.3100   \n",
      "3              0.0700         12.400  ...                     0.3300   \n",
      "4              0.0400         12.450  ...                     0.3100   \n",
      "...               ...            ...  ...                        ...   \n",
      "49353          0.0510          3.860  ...                     0.2410   \n",
      "49354          0.0390          7.800  ...                     0.2050   \n",
      "49355          0.0810          6.950  ...                     0.2020   \n",
      "49356          0.0372          7.144  ...                     0.3094   \n",
      "49357          0.0792          6.470  ...                     0.3486   \n",
      "\n",
      "       High_light_scatter_reti_count.0.0  C_reactive_protein.0.0  \\\n",
      "0                                 0.0190                   4.586   \n",
      "1                                 0.0110                   0.430   \n",
      "2                                 0.0210                   9.660   \n",
      "3                                 0.0230                   4.010   \n",
      "4                                 0.0120                   0.610   \n",
      "...                                  ...                     ...   \n",
      "49353                             0.0120                   0.700   \n",
      "49354                             0.0080                   2.070   \n",
      "49355                             0.0160                   0.920   \n",
      "49356                             0.0124                   0.880   \n",
      "49357                             0.0278                   1.670   \n",
      "\n",
      "       Traff_int_major_rd.0.0  housing_score      eid  case_leuk  case_lymph  \\\n",
      "0                     26926.0       22.87000  1003113          1           0   \n",
      "1                     21189.0        4.62000  1010279          1           0   \n",
      "2                     99417.0       11.16000  1028033          1           0   \n",
      "3                     13799.0       18.23000  1029141          1           0   \n",
      "4                     17090.0       19.68000  1029272          1           0   \n",
      "...                       ...            ...      ...        ...         ...   \n",
      "49353                 47585.0       31.44000  6024484          0           0   \n",
      "49354                 28931.0       24.34000  6024799          0           0   \n",
      "49355                 14158.0       29.70000  6024890          0           0   \n",
      "49356                 16626.8       32.43054  6024912          0           0   \n",
      "49357                 22604.2       12.22800  6024923          0           0   \n",
      "\n",
      "       case_status    cancer  \n",
      "0                1  leukemia  \n",
      "1                1  leukemia  \n",
      "2                1  leukemia  \n",
      "3                1  leukemia  \n",
      "4                1  leukemia  \n",
      "...            ...       ...  \n",
      "49353            0   healthy  \n",
      "49354            0   healthy  \n",
      "49355            0   healthy  \n",
      "49356            0   healthy  \n",
      "49357            0   healthy  \n",
      "\n",
      "[49358 rows x 27 columns]\n"
     ]
    }
   ],
   "source": [
    "print(final_imputed_df)"
   ]
  },
  {
   "cell_type": "code",
   "execution_count": 34,
   "metadata": {},
   "outputs": [],
   "source": [
    "final_imputed_df.to_csv('final_imputed_train_df.csv', index= True)"
   ]
  },
  {
   "cell_type": "code",
   "execution_count": null,
   "metadata": {},
   "outputs": [],
   "source": []
  }
 ],
 "metadata": {
  "kernelspec": {
   "display_name": "Python [conda env:test1]",
   "language": "python",
   "name": "conda-env-test1-py"
  },
  "language_info": {
   "codemirror_mode": {
    "name": "ipython",
    "version": 3
   },
   "file_extension": ".py",
   "mimetype": "text/x-python",
   "name": "python",
   "nbconvert_exporter": "python",
   "pygments_lexer": "ipython3",
   "version": "3.9.16"
  }
 },
 "nbformat": 4,
 "nbformat_minor": 2
}

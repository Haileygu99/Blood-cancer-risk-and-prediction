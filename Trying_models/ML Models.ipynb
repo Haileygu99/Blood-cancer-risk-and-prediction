{
 "cells": [
  {
   "cell_type": "code",
   "execution_count": 22,
   "id": "f0bf0595",
   "metadata": {},
   "outputs": [],
   "source": [
    "from sklearn.ensemble import RandomForestClassifier\n",
    "from sklearn.model_selection import train_test_split\n",
    "import pandas as pd\n",
    "import numpy as np\n",
    "import matplotlib.pyplot as plt\n",
    "from sklearn.model_selection import train_test_split\n",
    "from xgboost import XGBClassifier\n",
    "from sklearn import svm\n",
    "from sklearn.model_selection import KFold, GridSearchCV\n",
    "import time\n",
    "from sklearn.metrics import classification_report\n",
    "from sklearn.metrics import ConfusionMatrixDisplay\n",
    "import shap\n",
    "from sklearn.preprocessing import LabelEncoder\n",
    "from sklearn.preprocessing import StandardScaler\n",
    "\n",
    "'''\n",
    "The first cell in this script generates the final feature sets,\n",
    "you just need to choose either kmeans or gmm in the cluster_definition function call below.\n",
    "The output files will be called train_df_kmeans or test_df_kmeans, or gmm if you choose that.\n",
    "\n",
    "The latter cells run the ML models (RF, SVM, XGB) along with shap importance\n",
    "'''\n",
    "\n",
    "def cluster_definition(cluster_method):\n",
    "    if cluster_method == 'kmeans':\n",
    "        cluster_train = 'Train 5Kmeans.csv'\n",
    "        cluster_test = 'Test 5Kmeans.csv'\n",
    "        cluster_mem = 'cluster_kmeans'\n",
    "        cluster_method='kmeans'\n",
    "    elif cluster_method == 'gmm':\n",
    "        cluster_train = 'Train 2GMM.csv'\n",
    "        cluster_test = 'Test 2GMM.csv'\n",
    "        cluster_mem = 'cluster_ncomponents'\n",
    "        cluster_method='gmm'\n",
    "    return(cluster_train, cluster_test, cluster_mem, cluster_method)\n",
    "cluster_train, cluster_test, cluster_mem, cluster_method = cluster_definition('gmm')\n",
    "\n",
    "#Feature set generation\n",
    "covariates = ['BMI.0.0', 'Age_recr.0.0', 'Smoking_status.0.0', 'Sex.0.0']\n",
    "clusters_df_train = pd.read_csv(f\"../Clustering_temp/{cluster_train}\")\n",
    "blood_counts = list(clusters_df_train.columns[:-4])\n",
    "clusters_df_train=clusters_df_train[cluster_mem]\n",
    "clusters_df_test = pd.read_csv(f\"../Clustering_temp/{cluster_test}\")\n",
    "clusters_df_test=clusters_df_test[cluster_mem]\n",
    "lifestyle=[\"Mood_swings.0.0\",\"Alc_drinker_status.0.0\",\"C_reactive_protein.0.0\",\"Traff_int_major_rd.0.0\",\"housing_score\"]\n",
    "\n",
    "\n",
    "#Train Data generation\n",
    "train_data = pd.read_csv(\"../matching/matched_df.csv\")\n",
    "X_train=train_data[covariates+blood_counts+lifestyle]\n",
    "y_train = train_data['cancer']\n",
    "X_train=pd.merge(X_train,clusters_df_train,left_index=True, right_index=True)\n",
    "\n",
    "#Test Data generation\n",
    "test_data = pd.read_csv(\"../imp_test/test_imputed_df.csv\")\n",
    "X_test=test_data[covariates+blood_counts+lifestyle]\n",
    "y_test = test_data['cancer']\n",
    "X_test=pd.merge(X_test,clusters_df_test,left_index=True, right_index=True)\n",
    "\n",
    "#Standardization\n",
    "sclr=StandardScaler()\n",
    "X_cols = X_train.columns\n",
    "# Specify elements to remove\n",
    "elements_categorical = ['Smoking_status.0.0', 'Sex.0.0','Mood_swings.0.0','Alc_drinker_status.0.0',cluster_mem]\n",
    "# Create a new list that excludes the specified elements\n",
    "continuous_cols = [x for x in covariates+blood_counts+lifestyle if x not in elements_categorical]\n",
    "X_train[continuous_cols] = sclr.fit_transform(X_train[continuous_cols])\n",
    "X_train = pd.DataFrame(X_train, columns = X_cols)\n",
    "X_test[continuous_cols] = sclr.fit_transform(X_test[continuous_cols])\n",
    "X_test = pd.DataFrame(X_test, columns = X_cols)\n",
    "# One-hot encode the specified columns\n",
    "X_train = pd.get_dummies(X_train, columns=elements_categorical)\n",
    "X_test = pd.get_dummies(X_test, columns=elements_categorical)\n",
    "\n",
    "#Feature set generation\n",
    "X_train.to_csv(f'train_df_{cluster_method}.csv')\n",
    "X_test.to_csv(f'test_df_{cluster_method}.csv')\n"
   ]
  },
  {
   "cell_type": "code",
   "execution_count": 89,
   "id": "0fddd539",
   "metadata": {},
   "outputs": [
    {
     "name": "stderr",
     "output_type": "stream",
     "text": [
      "One or more of the test scores are non-finite: [nan nan nan nan nan nan nan nan nan nan nan nan nan nan nan nan nan nan]\n"
     ]
    },
    {
     "name": "stdout",
     "output_type": "stream",
     "text": [
      "{'max_features': 'auto', 'min_samples_leaf': 1, 'n_estimators': 50}\n",
      "y_pred encoded: ['healthy' 'healthy' 'healthy' ... 'leuk' 'healthy' 'leuk']\n",
      "Test Set Results:\n",
      "              precision    recall  f1-score   support\n",
      "\n",
      "     healthy       0.77      0.98      0.86      2814\n",
      "        leuk       0.65      0.30      0.41       459\n",
      "        lymp       0.33      0.03      0.06       566\n",
      "\n",
      "    accuracy                           0.76      3839\n",
      "   macro avg       0.58      0.44      0.44      3839\n",
      "weighted avg       0.69      0.76      0.69      3839\n",
      "\n"
     ]
    },
    {
     "data": {
      "image/png": "[encoded data removed]",
      "text/plain": [
       "<Figure size 432x288 with 2 Axes>"
      ]
     },
     "metadata": {
      "needs_background": "light"
     },
     "output_type": "display_data"
    },
    {
     "name": "stdout",
     "output_type": "stream",
     "text": [
      "46.35549736022949 seconds or 0.7725916226704915 mins or 0.012876527044508193 hrs\n"
     ]
    }
   ],
   "source": [
    "# ML model function\n",
    "xgb=XGBClassifier()\n",
    "rf=RandomForestClassifier()\n",
    "svm_model=svm.SVC()\n",
    "\n",
    "def model_test_main(model,x_train,y_train,x_test,y_test):\n",
    "    start_time = time.time()\n",
    "    #Hyperparameter dictionaries\n",
    "    if model == xgb:\n",
    "        param_grid={'n_estimators'     : np.array([50, 100, 500]),\n",
    "                    'learning_rate'    : np.array([1e-2, 1e-1, 1]),\n",
    "                    'max_depth'        : np.array([5, 8, 10])}\n",
    "        #Encoding labels for xgb compatability\n",
    "        encoder = LabelEncoder()\n",
    "        print(y_train)\n",
    "        y_train = encoder.fit_transform(y_train)\n",
    "        print(y_train)\n",
    "    elif model == rf:\n",
    "        param_grid={'n_estimators'   : np.array([50, 100, 200 ]),\n",
    "                    'min_samples_leaf'   : np.array([1, 2, 5]),\n",
    "                    'max_features' : np.array(['auto','log2'])}\n",
    "    elif model == svm_model:\n",
    "        param_grid={'C':[2^(0), 2^(1), 2^(2)],\n",
    "                    'kernel':['poly','rbf']}\n",
    "    inner=KFold(n_splits=3,shuffle=True,random_state=0)\n",
    "    #Inner CV for hyperparameter tuning\n",
    "    search_results=GridSearchCV(model,param_grid,cv=inner,n_jobs=-1, scoring='f1').fit(x_train,y_train)\n",
    "    #Selecting optimal hyperparameters\n",
    "    optimal_params=search_results.best_params_\n",
    "    print(optimal_params)\n",
    "    #Re-instantiating models with optimal hyperparameters\n",
    "    if model==xgb:\n",
    "        model=XGBClassifier(**optimal_params)\n",
    "    elif model == rf:\n",
    "        model =RandomForestClassifier(**optimal_params)    \n",
    "    elif model==svm_model:\n",
    "        model=svm.SVC(**optimal_params)\n",
    "    #Fitting model with optimised parameters to training data\n",
    "    model.fit(x_train,y_train)\n",
    "\n",
    "    #Predicting using fitted model on test set\n",
    "    y_pred = model.predict(x_test)\n",
    "    print(f'y_pred encoded: {y_pred}')\n",
    "    #De-encoding labels for xgb\n",
    "    if isinstance(model,XGBClassifier):\n",
    "        y_pred = encoder.inverse_transform(y_pred)\n",
    "        print(f'y_pred UN-encoded: {y_pred}')\n",
    "    #Results Visualisation\n",
    "    print('Test Set Results:')\n",
    "    print(classification_report(y_test,y_pred))\n",
    "    cmatrix=ConfusionMatrixDisplay.from_predictions(y_test, y_pred)\n",
    "    plt.show(cmatrix)\n",
    "    time_taken=(time.time() - start_time)\n",
    "    print(f'{time_taken} seconds or {time_taken/60} mins or {time_taken/(60*60)} hrs')\n",
    "    return(model, y_pred)\n",
    "\n",
    "model=model_test_main(rf, X_train, y_train, X_test, y_test)"
   ]
  },
  {
   "cell_type": "code",
   "execution_count": 9,
   "id": "d703528e",
   "metadata": {},
   "outputs": [
    {
     "name": "stdout",
     "output_type": "stream",
     "text": [
      "RandomForestClassifier(max_features='log2', min_samples_leaf=5)\n",
      "[0.07704972 0.01918327 0.17625341 0.10131997 0.10120658 0.14516714\n",
      " 0.15066366 0.04976887 0.07548344 0.10390393]\n",
      "[1 7 8 0 4 3 9 5 6 2]\n"
     ]
    }
   ],
   "source": [
    "# feature importance using tree impurity\n",
    "features = X_train.columns\n",
    "print(model[0])\n",
    "importances = model[0].feature_importances_\n",
    "print(importances)\n",
    "indices = np.argsort(importances)\n",
    "print(indices)"
   ]
  },
  {
   "cell_type": "code",
   "execution_count": 90,
   "id": "33e72f24",
   "metadata": {},
   "outputs": [],
   "source": [
    "#Select SHAP kernel based on ML model type\n",
    "if (isinstance(model[0],RandomForestClassifier))|(isinstance(model[0],XGBClassifier)):\n",
    "    explainer = shap.TreeExplainer(model[0])\n",
    "elif isinstance(model[0],svm.SVC):\n",
    "    explainer = shap.KernelExplainer(model[0])\n",
    "\n",
    "#Generate shap values\n",
    "shap_values = explainer.shap_values(X_test)\n",
    "print(model[0].classes_)\n",
    "\n",
    "#SHAP plots for each class\n",
    "plt.title('SHAP Importance Plot for Healthy Prediciton')\n",
    "shap.summary_plot(shap_values, features = X_test, class_inds = [0])\n",
    "plt.show()\n",
    "\n",
    "plt.title('SHAP Density Plot for Healthy Prediction')\n",
    "shap.summary_plot(shap_values[0], features = X_test)\n",
    "plt.show()\n",
    "\n",
    "plt.title('SHAP Importance Plot for Leukaemia Prediciton')\n",
    "shap.summary_plot(shap_values, features = X_test, class_inds = [1])\n",
    "plt.show()\n",
    "\n",
    "plt.title('SHAP Density Plot for Leukaemia Prediction')\n",
    "shap.summary_plot(shap_values[1], features = X_test)\n",
    "plt.show()\n",
    "\n",
    "plt.title('SHAP Importance Plot for Lymphoma Prediciton')\n",
    "shap.summary_plot(shap_values, features = X_test, class_inds = [2])\n",
    "plt.show()\n",
    "\n",
    "plt.title('SHAP Density Plot for Lymphoma Prediction')\n",
    "shap.summary_plot(shap_values[2], features = X_test)\n",
    "plt.show()\n"
   ]
  },
  {
   "cell_type": "code",
   "execution_count": 85,
   "metadata": {},
   "outputs": [
    {
     "data": {
      "text/plain": [
       "array([[-1.26119132, -1.08443325, -0.30279575, ..., -0.24352883,\n",
       "         4.29097692, -1.28364906],\n",
       "       [-0.2050863 , -1.08443325, -0.23245659, ...,  0.17328222,\n",
       "        -0.74402838, -1.13668433],\n",
       "       [ 1.30363517, -1.08443325, -0.30540091, ..., -0.52140286,\n",
       "        -0.47549476, -0.55521517],\n",
       "       ...,\n",
       "       [-2.1664242 ,  0.92214067, -0.01883393, ..., -0.52140286,\n",
       "        -0.47549476,  1.17002299],\n",
       "       [ 0.24753014,  0.92214067,  4.46203158, ...,  0.8679673 ,\n",
       "         1.53850736, -0.23572662],\n",
       "       [ 0.39840229,  0.92214067,  0.04629493, ..., -0.24352883,\n",
       "         1.13570693, -0.32518342]])"
      ]
     },
     "execution_count": 85,
     "metadata": {},
     "output_type": "execute_result"
    }
   ],
   "source": [
    "'''\n",
    "plt.title('SHAP Force Plot for Healthy Prediction')\n",
    "shap.force_plot(base_value=explainer.expected_value[0], shap_values=shap_values[0])\n",
    "plt.show()\n",
    "'''\n",
    "X_train"
   ]
  }
 ],
 "metadata": {
  "kernelspec": {
   "display_name": "Python 3",
   "language": "python",
   "name": "python3"
  },
  "language_info": {
   "codemirror_mode": {
    "name": "ipython",
    "version": 3
   },
   "file_extension": ".py",
   "mimetype": "text/x-python",
   "name": "python",
   "nbconvert_exporter": "python",
   "pygments_lexer": "ipython3",
   "version": "3.9.13"
  },
  "vscode": {
   "interpreter": {
    "hash": "423ff7d86d9cbe044ac35b20909f65b692966f7168e9bcbf4810c5e82eff1ead"
   }
  }
 },
 "nbformat": 4,
 "nbformat_minor": 5
}
